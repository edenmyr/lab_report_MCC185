{
 "cells": [
  {
   "cell_type": "code",
   "execution_count": 2,
   "metadata": {},
   "outputs": [],
   "source": [
    "import numpy as np\n",
    "from matplotlib import pyplot as plt\n"
   ]
  },
  {
   "cell_type": "code",
   "execution_count": 14,
   "metadata": {},
   "outputs": [
    {
     "name": "stdout",
     "output_type": "stream",
     "text": [
      "['T', 'T0', '_', '__', '___', '__file__', '__name__', '__package__', '_i', '_i1', '_i2', '_ii', '_iii', '_template_control_I', '_template_control_Q', '_template_disp_I', '_template_disp_Q', '_template_readout_I', '_template_readout_Q', '_template_readout_kick_I', '_template_readout_kick_Q', 'base_filename', 'carrier_m1_p1', 'carrier_m1_p2', 'carrier_m2_p1', 'carrier_m2_p2', 'cavity_LO', 'control_amp', 'control_cutoff', 'control_freq', 'control_length', 'control_phaseI', 'control_phaseQ', 'control_port', 'control_shape', 'date_string', 'demod_I_p', 'demod_Q_p', 'disp_amp', 'disp_frequency', 'disp_length', 'disp_phaseI', 'disp_phaseQ', 'disp_port', 'disp_shape', 'end', 'expected_runtime', 'file_name', 'i', 'match_length', 'matching_start', 'nr', 'nr1', 'num_averages', 'p2_phase_shift', 'phase', 'qubit_LO', 'readout_LO', 'readout_amp', 'readout_amp_kick', 'readout_delay', 'readout_freq', 'readout_length', 'readout_length_kick', 'readout_phaseI', 'readout_phaseQ', 'readout_port', 'readout_shape', 'result', 'sample_length', 'sample_port', 'sampling_freq_adc', 'sampling_freq_dac', 'sampling_start', 'save_to_file', 'start', 't_array', 't_template_match', 'use_fitting', 'use_template_matching', 'wait_decay']\n"
     ]
    }
   ],
   "source": [
    "data = np.load(r\"C:\\Users\\albin\\Documents\\GitHub\\lab_report_MCC185\\Data\\2023-10-05-1009Displacement_Spectroscopy.npz\")\n",
    "keys = list(data.keys())\n",
    "print(keys)"
   ]
  },
  {
   "cell_type": "code",
   "execution_count": null,
   "metadata": {},
   "outputs": [],
   "source": [
    "print(data())"
   ]
  }
 ],
 "metadata": {
  "kernelspec": {
   "display_name": "base",
   "language": "python",
   "name": "python3"
  },
  "language_info": {
   "codemirror_mode": {
    "name": "ipython",
    "version": 3
   },
   "file_extension": ".py",
   "mimetype": "text/x-python",
   "name": "python",
   "nbconvert_exporter": "python",
   "pygments_lexer": "ipython3",
   "version": "3.8.5"
  },
  "orig_nbformat": 4
 },
 "nbformat": 4,
 "nbformat_minor": 2
}
