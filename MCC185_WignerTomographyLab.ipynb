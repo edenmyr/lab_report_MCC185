{
 "cells": [
  {
   "cell_type": "markdown",
   "metadata": {},
   "source": [
    "# MCC185 Wigner Tomography Lab\n",
    "\n",
    "This jupyter notebook has necessary functions to plot and manipulate the data. Feel free to consult them, and write to `helambe@chalmers.se` for any additional details. "
   ]
  },
  {
   "cell_type": "code",
   "execution_count": null,
   "metadata": {},
   "outputs": [],
   "source": [
    "\n",
    "def rotate_opt(\n",
    "    data: np.ndarray, return_x: bool = False\n",
    ") -> tuple[np.ndarray, Tuple[np.ndarray, float]]:\n",
    "    \"\"\"Rotates ``data`` so that all the signal is in the I quadrature (real part).\n",
    "\n",
    "    Args:\n",
    "        data: ``dtype`` should be ``complex128``.\n",
    "        return_x: if :obj:`True`, return also the angle by which ``data`` was rotated.\n",
    "\n",
    "    Returns:\n",
    "        ``data * np.exp(1j * x)``, with ``x`` such that ``np.std(ret.imag)`` is minimum.\n",
    "        ``dtype=complex128``.\n",
    "\n",
    "        If ``return_x=True``, also return the angle ``x``.\n",
    "    \"\"\"\n",
    "    # calculate the variance in steps of 1 deg\n",
    "    N = 360\n",
    "    _var = np.zeros(N)\n",
    "    for ii in range(N):\n",
    "        _data = data * np.exp(1j * 2 * np.pi / N * ii)\n",
    "        _var[ii] = np.var(_data.imag)\n",
    "\n",
    "    # the variance goes like cos(x)**2\n",
    "    # FFT and find the phase at frequency \"2\"\n",
    "    fft = np.fft.rfft(_var) / N\n",
    "    # first solution\n",
    "    x_fft1 = -np.angle(fft[2])  # compensate for measured phase\n",
    "    x_fft1 -= np.pi  # we want to be at the minimum of cos(2x)\n",
    "    x_fft1 /= 2  # move from frequency \"2\" to \"1\"\n",
    "    # there's a second solution np.pi away (a minus sign)\n",
    "    x_fft2 = x_fft1 + np.pi\n",
    "\n",
    "    # convert to +/- interval\n",
    "    x_fft1 = to_pm_pi(x_fft1)\n",
    "    x_fft2 = to_pm_pi(x_fft2)\n",
    "    # choose the closest to zero\n",
    "    if np.abs(x_fft1) < np.abs(x_fft2):\n",
    "        x_fft = x_fft1\n",
    "    else:\n",
    "        x_fft = x_fft2\n",
    "\n",
    "    # rotate the data and return a copy\n",
    "    data = data * np.exp(1j * x_fft)\n",
    "    if return_x:\n",
    "        return data, x_fft\n",
    "    else:\n",
    "        return data\n",
    "\n",
    "def to_pm_pi(phase: float) -> float:\n",
    "    \"\"\"Converts a phase in radians into the [-π, +π) interval.\n",
    "\n",
    "    Args:\n",
    "        phase\n",
    "    \"\"\"\n",
    "    return (phase + np.pi) % (2 * np.pi) - np.pi\n"
   ]
  },
  {
   "cell_type": "markdown",
   "metadata": {},
   "source": [
    "# Resonator spectroscopy "
   ]
  },
  {
   "cell_type": "code",
   "execution_count": null,
   "metadata": {},
   "outputs": [],
   "source": [
    "\n",
    "x_axis = readout_freq\n",
    "### SAVE FILE\n",
    "if save_to_file:\n",
    "    _dict = dict()\n",
    "    for key in dir():\n",
    "        if isinstance(globals()[key], (np.ndarray, float, int, str)):\n",
    "            _dict[key] = globals()[key]\n",
    "\n",
    "    np.savez(file_name[:-3], **_dict)\n",
    "\n",
    "plt.figure()\n",
    "plt.plot(x_axis, (demod_I_p **2 + demod_Q_p**2)**(1/2) * match_length, '.-')\n",
    "plt.figure()\n",
    "plt.plot(x_axis, np.arctan2(demod_Q_p,demod_I_p), '.-')"
   ]
  },
  {
   "cell_type": "markdown",
   "metadata": {},
   "source": [
    "# Qubit spectroscopy \n"
   ]
  },
  {
   "cell_type": "code",
   "execution_count": null,
   "metadata": {},
   "outputs": [],
   "source": [
    "demod_I_p = np.array(demod_I_p)\n",
    "demod_Q_p = np.array(demod_Q_p)\n",
    "\n",
    "\n",
    "x_axis = control_freq\n",
    "### SAVE FILE\n",
    "if save_to_file:\n",
    "    _dict = dict()\n",
    "    for key in dir():\n",
    "        if isinstance(globals()[key], (np.ndarray, float, int, str)):\n",
    "            _dict[key] = globals()[key]\n",
    "\n",
    "    np.savez(file_name[:-3], **_dict)\n",
    "\n",
    "plt.figure()\n",
    "plt.plot(x_axis, (demod_I_p **2 + demod_Q_p**2)**(1/2) * match_length, '.-')"
   ]
  },
  {
   "cell_type": "markdown",
   "metadata": {},
   "source": [
    "# Rabi measurement \n"
   ]
  },
  {
   "cell_type": "code",
   "execution_count": null,
   "metadata": {},
   "outputs": [],
   "source": [
    "## plotting\n",
    "xdata = control_amp\n",
    "\n",
    "plt.figure()\n",
    "# plt.plot(control_amp, demod_I_p * match_length, '.')\n",
    "# plt.plot(control_amp, demod_Q_p * match_length, '.')\n",
    "data, angle = rotate_opt(demod_I_p + 1j * demod_Q_p, True)\n",
    "data = np.exp(1j * (angle)) * (demod_I_p + 1j * demod_Q_p)\n",
    "plt.plot(xdata, np.real(data).T,'-o')\n",
    "# print(angle)\n",
    "if use_template_matching:\n",
    "\tplt.figure()\n",
    "\tdata_matched = rotate_opt(avg_match_I_p + 1j * avg_match_Q_p)\n",
    "\tplt.plot(xdata, np.real(data_matched))\n",
    "\n",
    "if use_fitting:\n",
    "\timport scipy.optimize as opt\n",
    "\n",
    "\n",
    "\tdef func(t, A, T, phi, B):\n",
    "\t\treturn A * np.sin(2 * np.pi * t / T + phi) + B\n",
    "\n",
    "\n",
    "\tydata = np.real(data).T\n",
    "\tydata = ydata[:,nr1-1]\n",
    "\tp0 = [(np.max(ydata) - np.min(ydata)), np.abs(2 * (xdata[np.argmax(ydata)] - xdata[np.argmin(ydata)])), -np.pi / 2,\n",
    "\t\t  (np.max(ydata) - np.min(ydata)) / 2]\n",
    "\tpopt, pcov = opt.curve_fit(func, control_amp, ydata, p0=p0,\n",
    "\t\t\t\t\t\t\t   bounds=([-np.inf, 0, -np.pi, -np.inf], [np.inf, np.inf, np.pi, np.inf]))\n",
    "\tplt.plot(control_amp, func(control_amp, *popt))\n",
    "\tplt.vlines(0.5 * (popt[1]) - (popt[2] + np.pi / 2) / (2 * np.pi) * (popt[1]) + (nr1-1)*popt[1], np.min(ydata), np.max(ydata),\n",
    "\t\t\t   colors='k', linestyles='dashed',\n",
    "\t\t\t   label=r'$\\pi=%.4f $' % (0.5 * (popt[1]) - (popt[2] + np.pi / 2) / (2 * np.pi) * (popt[1]) + (nr1-1)*popt[1]))\n",
    "\tplt.legend()\n",
    "\n",
    "# plt.plot(control_amp, avg_match_I_p, '.')\n",
    "# plt.plot(control_amp, avg_match_Q_p, '.')\n",
    "\n",
    "plt.show()"
   ]
  },
  {
   "cell_type": "markdown",
   "metadata": {},
   "source": [
    "# Ramsey measurement \n"
   ]
  },
  {
   "cell_type": "code",
   "execution_count": null,
   "metadata": {},
   "outputs": [],
   "source": [
    "## plotting\n",
    "xdata = dt\n",
    "\n",
    "plt.figure()\n",
    "# plt.plot(control_amp, demod_I_p * match_length, '.')\n",
    "# plt.plot(control_amp, demod_Q_p * match_length, '.')\n",
    "data, angle = rotate_opt(demod_I_p + 1j * demod_Q_p, True)\n",
    "plt.plot(xdata, np.real(data))\n",
    "\n",
    "\n",
    "if use_fitting:\n",
    "\timport scipy.optimize as opt\n",
    "\n",
    "\n",
    "\tdef func(t, A, f, T2, phi, B):\n",
    "\t\treturn A * np.exp(-t / T2) * np.cos(2 * np.pi * t * f + phi) + B\n",
    "\n",
    "\n",
    "\tydata = np.real(data)\n",
    "\tt = dt * 1e6\n",
    "\tA = max(ydata) - min(ydata)\n",
    "\tB = np.mean(ydata)\n",
    "\tff = np.fft.fftfreq(len(t), (t[1] - t[0]))  # assume uniform spacing\n",
    "\tFyy = abs(np.fft.fft(ydata))\n",
    "\tf = abs(ff[np.argmax(Fyy[1:]) + 1])\n",
    "\tphi = 0\n",
    "\tT2 = 20\n",
    "\t# p0 = [np.max(ydata)-np.min(ydata), (t[np.argmax(ydata)]-t[np.argmin(ydata)]), 20, 0, np.mean(ydata)]\n",
    "\tpopt, pcov = opt.curve_fit(func, t, ydata, p0=[A, f, T2, phi, B])\n",
    "\tplt.plot(xdata, func(t, *popt), label=r'Freq=%.0f ' % (popt[1] * 1e6) + '\\n' + r'T2=%.4f ' % (popt[2]))\n",
    "\tplt.legend()\n",
    "\n",
    "# plt.plot(control_amp, avg_match_I_p, '.')\n",
    "# plt.plot(control_amp, avg_match_Q_p, '.')\n",
    "\n",
    "plt.show()"
   ]
  },
  {
   "cell_type": "markdown",
   "metadata": {},
   "source": [
    "# T1 measurement "
   ]
  },
  {
   "cell_type": "code",
   "execution_count": null,
   "metadata": {},
   "outputs": [],
   "source": [
    "match_length = 1.6e-6  # s\n",
    "\n",
    "## plotting\n",
    "xdata = time_LUT\n",
    "\n",
    "plt.figure()\n",
    "data,angle = rotate_opt(demod_I_p * match_length + 1j*demod_Q_p * match_length,True)\n",
    "plt.gca().ticklabel_format(style='sci', axis='x', scilimits=(0,0))\n",
    "plt.plot(xdata, np.real(data))\n",
    "#plt.legend([r'$T_1=%.2e $' % (popt[1])])\n",
    "plt.gca().ticklabel_format(style='sci', axis='x', scilimits=(0,0))\n",
    "plt.show()\n",
    "\n",
    "\n",
    "\n",
    "if use_fitting:\n",
    "    import scipy.optimize as opt\n",
    "\n",
    "    def func(t, A, T, B):\n",
    "        return A*np.exp(-t/T) + B\n",
    "    ydata = np.real(data)\n",
    "    p0 = [(np.max(ydata)-np.min(ydata)), 20e-6, np.min(ydata)]\n",
    "    popt, pcov = opt.curve_fit(func, xdata, ydata, p0=p0)\n",
    "    plt.plot(xdata, func(xdata, *popt))\n",
    "    plt.legend([r'$T_1=%.2e $'%(popt[1])])\n",
    "\n"
   ]
  },
  {
   "cell_type": "markdown",
   "metadata": {},
   "source": [
    "# Cavity search \n"
   ]
  },
  {
   "cell_type": "code",
   "execution_count": null,
   "metadata": {},
   "outputs": [],
   "source": [
    "x_axis = disp_frequency\n",
    "\n",
    "plt.figure()\n",
    "data = rotate_opt(demod_I_p+1j*demod_Q_p)\n",
    "plt.plot(x_axis, np.real(data.T))"
   ]
  },
  {
   "cell_type": "markdown",
   "metadata": {},
   "source": [
    "# Displacement Spectroscopy \n",
    "\n",
    "I have added older data sets for this measurement, which might be easier to fit and calculate for $\\chi$"
   ]
  },
  {
   "cell_type": "code",
   "execution_count": null,
   "metadata": {},
   "outputs": [],
   "source": [
    "x_axis = control_freq\n",
    "\n",
    "plt.figure()\n",
    "#plt.plot(x_axis, demod_I_p * match_length, '.')\n",
    "#plt.plot(control_amp, demod_Q_p * match_length, '.')\n",
    "data,angle = rotate_opt(demod_I_p+1j*demod_Q_p, True)\n",
    "plt.plot(x_axis, np.real(data.T))\n"
   ]
  }
 ],
 "metadata": {
  "language_info": {
   "name": "python"
  },
  "orig_nbformat": 4
 },
 "nbformat": 4,
 "nbformat_minor": 2
}
